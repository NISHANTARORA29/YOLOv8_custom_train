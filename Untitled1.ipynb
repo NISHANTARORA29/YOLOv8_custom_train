{
 "cells": [
  {
   "cell_type": "code",
   "execution_count": 2,
   "id": "f7b5ebfd-5e68-479a-9ff2-bd3f029b9947",
   "metadata": {
    "tags": []
   },
   "outputs": [
    {
     "ename": "FileNotFoundError",
     "evalue": "[Errno 2] No such file or directory: '/Users/nishantarora/Desktop/intern proj/Desktop/intern proj/Machine5.png'",
     "output_type": "error",
     "traceback": [
      "\u001b[0;31m---------------------------------------------------------------------------\u001b[0m",
      "\u001b[0;31mFileNotFoundError\u001b[0m                         Traceback (most recent call last)",
      "Cell \u001b[0;32mIn[2], line 9\u001b[0m\n\u001b[1;32m      3\u001b[0m \u001b[38;5;28;01mimport\u001b[39;00m \u001b[38;5;21;01mnumpy\u001b[39;00m \u001b[38;5;28;01mas\u001b[39;00m \u001b[38;5;21;01mnp\u001b[39;00m\n\u001b[1;32m      7\u001b[0m \u001b[38;5;66;03m# Load the image\u001b[39;00m\n\u001b[0;32m----> 9\u001b[0m image \u001b[38;5;241m=\u001b[39m Image\u001b[38;5;241m.\u001b[39mopen(\u001b[38;5;124mr\u001b[39m\u001b[38;5;124m\"\u001b[39m\u001b[38;5;124mDesktop/intern proj/Machine5.png\u001b[39m\u001b[38;5;124m\"\u001b[39m)\u001b[38;5;241m.\u001b[39mconvert(\u001b[38;5;124m\"\u001b[39m\u001b[38;5;124mRGBA\u001b[39m\u001b[38;5;124m\"\u001b[39m)\n\u001b[1;32m     13\u001b[0m \u001b[38;5;66;03m# Convert image to numpy array\u001b[39;00m\n\u001b[1;32m     15\u001b[0m data \u001b[38;5;241m=\u001b[39m np\u001b[38;5;241m.\u001b[39marray(image)\n",
      "File \u001b[0;32m~/anaconda3/lib/python3.11/site-packages/PIL/Image.py:3431\u001b[0m, in \u001b[0;36mopen\u001b[0;34m(fp, mode, formats)\u001b[0m\n\u001b[1;32m   3428\u001b[0m     filename \u001b[38;5;241m=\u001b[39m os\u001b[38;5;241m.\u001b[39mpath\u001b[38;5;241m.\u001b[39mrealpath(os\u001b[38;5;241m.\u001b[39mfspath(fp))\n\u001b[1;32m   3430\u001b[0m \u001b[38;5;28;01mif\u001b[39;00m filename:\n\u001b[0;32m-> 3431\u001b[0m     fp \u001b[38;5;241m=\u001b[39m builtins\u001b[38;5;241m.\u001b[39mopen(filename, \u001b[38;5;124m\"\u001b[39m\u001b[38;5;124mrb\u001b[39m\u001b[38;5;124m\"\u001b[39m)\n\u001b[1;32m   3432\u001b[0m     exclusive_fp \u001b[38;5;241m=\u001b[39m \u001b[38;5;28;01mTrue\u001b[39;00m\n\u001b[1;32m   3433\u001b[0m \u001b[38;5;28;01melse\u001b[39;00m:\n",
      "\u001b[0;31mFileNotFoundError\u001b[0m: [Errno 2] No such file or directory: '/Users/nishantarora/Desktop/intern proj/Desktop/intern proj/Machine5.png'"
     ]
    }
   ],
   "source": [
    "from PIL import Image\n",
    "\n",
    "import numpy as np\n",
    "\n",
    " \n",
    "\n",
    "# Load the image\n",
    "\n",
    "image = Image.open(r\"Desktop/intern proj/Machine5.png\").convert(\"RGBA\")\n",
    "\n",
    " \n",
    "\n",
    "# Convert image to numpy array\n",
    "\n",
    "data = np.array(image)\n",
    "\n",
    " \n",
    "\n",
    "# Define the white color range\n",
    "\n",
    "r, g, b, a = data[..., 0], data[..., 1], data[..., 2], data[..., 3]\n",
    "\n",
    "white_mask = (r > 200) & (g > 200) & (b > 200)\n",
    "\n",
    " \n",
    "\n",
    "# Set white pixels to transparent\n",
    "\n",
    "data[..., 3][white_mask] = 0\n",
    "\n",
    " \n",
    "\n",
    "# Create a new image from the array\n",
    "\n",
    "new_image = Image.fromarray(data)\n",
    "\n",
    " \n",
    "\n",
    "# Save the image\n",
    "\n",
    "new_image.save(r\"C:\\Users\\20358620\\Downloads\\image_without_white_background.png\")\n",
    "\n",
    " \n",
    "\n",
    " \n",
    "\n",
    "from PIL import Image\n",
    "\n",
    "import numpy as np\n",
    "\n",
    "import matplotlib.pyplot as plt\n",
    "\n",
    "plt.imshow(image)\n",
    "\n",
    "plt.axis('off')  # Hide the axes\n",
    "\n",
    "plt.show()\n",
    "\n",
    " \n",
    "\n",
    "plt.imshow(new_image)\n",
    "\n",
    "plt.axis('off')  # Hide the axes\n",
    "\n",
    "plt.show()\n",
    "\n",
    " "
   ]
  },
  {
   "cell_type": "code",
   "execution_count": 1,
   "id": "ec30072c-5edc-4014-9e6a-b8481b1af10d",
   "metadata": {
    "tags": []
   },
   "outputs": [
    {
     "ename": "ImportError",
     "evalue": "dlopen(/Users/nishantarora/anaconda3/lib/python3.11/site-packages/cv2.cpython-311-darwin.so, 0x0002): Library not loaded: @rpath/liblapack.3.dylib\n  Referenced from: <55371AF9-6715-3771-A213-E48722ABA229> /Users/nishantarora/anaconda3/lib/libopencv_core.4.7.0.dylib\n  Reason: tried: '/Users/nishantarora/anaconda3/lib/liblapack.3.dylib' (no such file), '/Users/nishantarora/anaconda3/lib/liblapack.3.dylib' (no such file), '/Users/nishantarora/anaconda3/lib/python3.11/site-packages/../../liblapack.3.dylib' (no such file), '/Users/nishantarora/anaconda3/lib/python3.11/site-packages/../../liblapack.3.dylib' (no such file), '/Users/nishantarora/anaconda3/bin/../lib/liblapack.3.dylib' (no such file), '/Users/nishantarora/anaconda3/bin/../lib/liblapack.3.dylib' (no such file), '/usr/local/lib/liblapack.3.dylib' (no such file), '/usr/lib/liblapack.3.dylib' (no such file, not in dyld cache)",
     "output_type": "error",
     "traceback": [
      "\u001b[0;31m---------------------------------------------------------------------------\u001b[0m",
      "\u001b[0;31mImportError\u001b[0m                               Traceback (most recent call last)",
      "Cell \u001b[0;32mIn[1], line 1\u001b[0m\n\u001b[0;32m----> 1\u001b[0m \u001b[38;5;28;01mimport\u001b[39;00m \u001b[38;5;21;01mcv2\u001b[39;00m\n\u001b[1;32m      2\u001b[0m \u001b[38;5;28;01mimport\u001b[39;00m \u001b[38;5;21;01mnumpy\u001b[39;00m \u001b[38;5;28;01mas\u001b[39;00m \u001b[38;5;21;01mnp\u001b[39;00m\n\u001b[1;32m      4\u001b[0m \u001b[38;5;66;03m# Load the image\u001b[39;00m\n",
      "\u001b[0;31mImportError\u001b[0m: dlopen(/Users/nishantarora/anaconda3/lib/python3.11/site-packages/cv2.cpython-311-darwin.so, 0x0002): Library not loaded: @rpath/liblapack.3.dylib\n  Referenced from: <55371AF9-6715-3771-A213-E48722ABA229> /Users/nishantarora/anaconda3/lib/libopencv_core.4.7.0.dylib\n  Reason: tried: '/Users/nishantarora/anaconda3/lib/liblapack.3.dylib' (no such file), '/Users/nishantarora/anaconda3/lib/liblapack.3.dylib' (no such file), '/Users/nishantarora/anaconda3/lib/python3.11/site-packages/../../liblapack.3.dylib' (no such file), '/Users/nishantarora/anaconda3/lib/python3.11/site-packages/../../liblapack.3.dylib' (no such file), '/Users/nishantarora/anaconda3/bin/../lib/liblapack.3.dylib' (no such file), '/Users/nishantarora/anaconda3/bin/../lib/liblapack.3.dylib' (no such file), '/usr/local/lib/liblapack.3.dylib' (no such file), '/usr/lib/liblapack.3.dylib' (no such file, not in dyld cache)"
     ]
    }
   ],
   "source": [
    "import cv2\n",
    "import numpy as np\n",
    "\n",
    "# Load the image\n",
    "image = cv2.imread('Desktop/intern proj/Machine5.png')\n",
    "\n",
    "# Convert the image to grayscale\n",
    "gray = cv2.cvtColor(image, cv2.COLOR_BGR2GRAY)\n",
    "\n",
    "# Create a binary mask where white areas become 0 (background) and non-white areas become 1 (foreground)\n",
    "_, mask = cv2.threshold(gray, 240, 255, cv2.THRESH_BINARY_INV)\n",
    "\n",
    "# Apply the mask to remove the background\n",
    "result = cv2.bitwise_and(image, image, mask=mask)\n",
    "\n",
    "# Save the result\n",
    "cv2.imwrite('image_without_white_background.png', result)\n",
    "\n",
    "# Display the result\n",
    "cv2.imshow('Result', result)\n",
    "cv2.waitKey(0)\n",
    "cv2.destroyAllWindows()\n"
   ]
  },
  {
   "cell_type": "code",
   "execution_count": null,
   "id": "a7653dab-8d92-40c8-9ee9-532afb2ac217",
   "metadata": {},
   "outputs": [],
   "source": []
  }
 ],
 "metadata": {
  "kernelspec": {
   "display_name": "Python 3 (ipykernel)",
   "language": "python",
   "name": "python3"
  },
  "language_info": {
   "codemirror_mode": {
    "name": "ipython",
    "version": 3
   },
   "file_extension": ".py",
   "mimetype": "text/x-python",
   "name": "python",
   "nbconvert_exporter": "python",
   "pygments_lexer": "ipython3",
   "version": "3.11.6"
  }
 },
 "nbformat": 4,
 "nbformat_minor": 5
}
